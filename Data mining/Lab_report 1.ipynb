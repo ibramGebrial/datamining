{
 "cells": [
  {
   "cell_type": "markdown",
   "metadata": {},
   "source": [
    "### РОССИЙСКИЙ УНИВЕРСИТЕТ ДРУЖБЫ НАРОДОВ"
   ]
  },
  {
   "cell_type": "markdown",
   "metadata": {},
   "source": [
    "#### Факультет физико-математических и естественных наук  \n",
    "#### Кафедра информационных технологий "
   ]
  },
  {
   "cell_type": "markdown",
   "metadata": {},
   "source": [
    "## ОТЧЕТ ПО ЛАБОРАТОРНОЙ РАБОТЕ № 1"
   ]
  },
  {
   "cell_type": "markdown",
   "metadata": {},
   "source": [
    "#### Дисциплина: Интеллектуальный анализ данных"
   ]
  },
  {
   "cell_type": "markdown",
   "metadata": {},
   "source": [
    "##### Студент:  Гебриал Ибрам Есам Зекри\n",
    "##### Группа:   НПИбд-01-18"
   ]
  },
  {
   "cell_type": "markdown",
   "metadata": {},
   "source": [
    "## Москва 2021\n",
    "***"
   ]
  },
  {
   "cell_type": "markdown",
   "metadata": {},
   "source": [
    "### Вариант № 17"
   ]
  },
  {
   "cell_type": "markdown",
   "metadata": {},
   "source": [
    "1. Считайте котировки ценных бумаг с указанными ниже тикерами за 2021 год: \n",
    "\n",
    " ET       Energy Transfer LP \n",
    "\n",
    " TSM    Taiwan Semiconductor Manufacturing ADR \n",
    "\n",
    " VZ       Verizon Communications Inc \n",
    "\n",
    "и вычислите дневные доходности ценных бумаг. \n",
    "\n",
    "2. Определите ценную бумагу, имеющую максимальную медиану дневной доходности, и постройте график изменения ее стоимости. \n",
    "\n",
    "3. Для ценной бумаги, имеющей минимальную дневную доходность, постройте гистограмму для дневных доходностей. \n",
    "\n",
    "4. Для ценной бумаги, имеющей максимальную дисперсию дневной доходности, постройте и визуализируйте эмпирическую функцию распределения дневной доходности. \n",
    "\n",
    "5. Вычислите матрицу ковариации дневных доходностей ценных бумаг и для пары ценных бумаг с наиболее высокой ковариацией постройте диаграмму рассеяния стоимости ценных бумаг "
   ]
  },
  {
   "cell_type": "markdown",
   "metadata": {},
   "source": [
    "1. Считайте котировки ценных бумаг с указанными ниже тикерами за 2021 год:"
   ]
  },
  {
   "cell_type": "code",
   "execution_count": 6,
   "metadata": {},
   "outputs": [],
   "source": [
    "import pandas as pd \n",
    "from pandas_datareader import data as pdr\n",
    "import datetime as dt\n"
   ]
  },
  {
   "cell_type": "code",
   "execution_count": 7,
   "metadata": {},
   "outputs": [],
   "source": [
    "def get(tickers, startdate, enddate):\n",
    "    def data(ticker):\n",
    "        return (pdr.get_data_yahoo(ticker, start=startdate, end=enddate))\n",
    "    datas = map (data, tickers)\n",
    "    return(pd.concat(datas, keys=tickers, names=['Ticker', 'Date']))"
   ]
  },
  {
   "cell_type": "code",
   "execution_count": 8,
   "metadata": {},
   "outputs": [
    {
     "data": {
      "text/html": [
       "<div>\n",
       "<style scoped>\n",
       "    .dataframe tbody tr th:only-of-type {\n",
       "        vertical-align: middle;\n",
       "    }\n",
       "\n",
       "    .dataframe tbody tr th {\n",
       "        vertical-align: top;\n",
       "    }\n",
       "\n",
       "    .dataframe thead th {\n",
       "        text-align: right;\n",
       "    }\n",
       "</style>\n",
       "<table border=\"1\" class=\"dataframe\">\n",
       "  <thead>\n",
       "    <tr style=\"text-align: right;\">\n",
       "      <th></th>\n",
       "      <th></th>\n",
       "      <th>High</th>\n",
       "      <th>Low</th>\n",
       "      <th>Open</th>\n",
       "      <th>Close</th>\n",
       "      <th>Volume</th>\n",
       "      <th>Adj Close</th>\n",
       "    </tr>\n",
       "    <tr>\n",
       "      <th>Ticker</th>\n",
       "      <th>Date</th>\n",
       "      <th></th>\n",
       "      <th></th>\n",
       "      <th></th>\n",
       "      <th></th>\n",
       "      <th></th>\n",
       "      <th></th>\n",
       "    </tr>\n",
       "  </thead>\n",
       "  <tbody>\n",
       "    <tr>\n",
       "      <th rowspan=\"5\" valign=\"top\">ET</th>\n",
       "      <th>2021-01-04</th>\n",
       "      <td>6.32</td>\n",
       "      <td>6.03</td>\n",
       "      <td>6.26</td>\n",
       "      <td>6.10</td>\n",
       "      <td>26710800.0</td>\n",
       "      <td>5.772168</td>\n",
       "    </tr>\n",
       "    <tr>\n",
       "      <th>2021-01-05</th>\n",
       "      <td>6.60</td>\n",
       "      <td>6.08</td>\n",
       "      <td>6.10</td>\n",
       "      <td>6.46</td>\n",
       "      <td>28105700.0</td>\n",
       "      <td>6.112821</td>\n",
       "    </tr>\n",
       "    <tr>\n",
       "      <th>2021-01-06</th>\n",
       "      <td>6.68</td>\n",
       "      <td>6.42</td>\n",
       "      <td>6.59</td>\n",
       "      <td>6.62</td>\n",
       "      <td>20091400.0</td>\n",
       "      <td>6.264221</td>\n",
       "    </tr>\n",
       "    <tr>\n",
       "      <th>2021-01-07</th>\n",
       "      <td>6.76</td>\n",
       "      <td>6.54</td>\n",
       "      <td>6.65</td>\n",
       "      <td>6.65</td>\n",
       "      <td>15386800.0</td>\n",
       "      <td>6.292609</td>\n",
       "    </tr>\n",
       "    <tr>\n",
       "      <th>2021-01-08</th>\n",
       "      <td>6.78</td>\n",
       "      <td>6.58</td>\n",
       "      <td>6.73</td>\n",
       "      <td>6.73</td>\n",
       "      <td>21695200.0</td>\n",
       "      <td>6.368309</td>\n",
       "    </tr>\n",
       "  </tbody>\n",
       "</table>\n",
       "</div>"
      ],
      "text/plain": [
       "                   High   Low  Open  Close      Volume  Adj Close\n",
       "Ticker Date                                                      \n",
       "ET     2021-01-04  6.32  6.03  6.26   6.10  26710800.0   5.772168\n",
       "       2021-01-05  6.60  6.08  6.10   6.46  28105700.0   6.112821\n",
       "       2021-01-06  6.68  6.42  6.59   6.62  20091400.0   6.264221\n",
       "       2021-01-07  6.76  6.54  6.65   6.65  15386800.0   6.292609\n",
       "       2021-01-08  6.78  6.58  6.73   6.73  21695200.0   6.368309"
      ]
     },
     "execution_count": 8,
     "metadata": {},
     "output_type": "execute_result"
    }
   ],
   "source": [
    "tickers = ['ET', 'TSM', 'VZ']\n",
    "all_data = get(tickers, dt.datetime(2021, 1, 1), dt.datetime(2021, 12, 31))\n",
    "all_data.head()"
   ]
  },
  {
   "cell_type": "code",
   "execution_count": 9,
   "metadata": {},
   "outputs": [
    {
     "data": {
      "text/html": [
       "<div>\n",
       "<style scoped>\n",
       "    .dataframe tbody tr th:only-of-type {\n",
       "        vertical-align: middle;\n",
       "    }\n",
       "\n",
       "    .dataframe tbody tr th {\n",
       "        vertical-align: top;\n",
       "    }\n",
       "\n",
       "    .dataframe thead th {\n",
       "        text-align: right;\n",
       "    }\n",
       "</style>\n",
       "<table border=\"1\" class=\"dataframe\">\n",
       "  <thead>\n",
       "    <tr style=\"text-align: right;\">\n",
       "      <th>Ticker</th>\n",
       "      <th>ET</th>\n",
       "      <th>TSM</th>\n",
       "      <th>VZ</th>\n",
       "    </tr>\n",
       "    <tr>\n",
       "      <th>Date</th>\n",
       "      <th></th>\n",
       "      <th></th>\n",
       "      <th></th>\n",
       "    </tr>\n",
       "  </thead>\n",
       "  <tbody>\n",
       "    <tr>\n",
       "      <th>2021-01-04</th>\n",
       "      <td>5.772168</td>\n",
       "      <td>110.402008</td>\n",
       "      <td>56.966927</td>\n",
       "    </tr>\n",
       "    <tr>\n",
       "      <th>2021-01-05</th>\n",
       "      <td>6.112821</td>\n",
       "      <td>111.459579</td>\n",
       "      <td>56.705570</td>\n",
       "    </tr>\n",
       "    <tr>\n",
       "      <th>2021-01-06</th>\n",
       "      <td>6.264221</td>\n",
       "      <td>114.266579</td>\n",
       "      <td>57.392853</td>\n",
       "    </tr>\n",
       "    <tr>\n",
       "      <th>2021-01-07</th>\n",
       "      <td>6.292609</td>\n",
       "      <td>120.018944</td>\n",
       "      <td>57.263702</td>\n",
       "    </tr>\n",
       "    <tr>\n",
       "      <th>2021-01-08</th>\n",
       "      <td>6.368309</td>\n",
       "      <td>117.310791</td>\n",
       "      <td>56.549496</td>\n",
       "    </tr>\n",
       "    <tr>\n",
       "      <th>...</th>\n",
       "      <td>...</td>\n",
       "      <td>...</td>\n",
       "      <td>...</td>\n",
       "    </tr>\n",
       "    <tr>\n",
       "      <th>2021-09-13</th>\n",
       "      <td>9.340000</td>\n",
       "      <td>123.114326</td>\n",
       "      <td>54.619999</td>\n",
       "    </tr>\n",
       "    <tr>\n",
       "      <th>2021-09-14</th>\n",
       "      <td>9.300000</td>\n",
       "      <td>122.586494</td>\n",
       "      <td>54.410000</td>\n",
       "    </tr>\n",
       "    <tr>\n",
       "      <th>2021-09-15</th>\n",
       "      <td>9.240000</td>\n",
       "      <td>121.002998</td>\n",
       "      <td>54.570000</td>\n",
       "    </tr>\n",
       "    <tr>\n",
       "      <th>2021-09-16</th>\n",
       "      <td>9.140000</td>\n",
       "      <td>120.790001</td>\n",
       "      <td>54.430000</td>\n",
       "    </tr>\n",
       "    <tr>\n",
       "      <th>2021-09-17</th>\n",
       "      <td>9.115000</td>\n",
       "      <td>118.639999</td>\n",
       "      <td>54.444401</td>\n",
       "    </tr>\n",
       "  </tbody>\n",
       "</table>\n",
       "<p>179 rows × 3 columns</p>\n",
       "</div>"
      ],
      "text/plain": [
       "Ticker            ET         TSM         VZ\n",
       "Date                                       \n",
       "2021-01-04  5.772168  110.402008  56.966927\n",
       "2021-01-05  6.112821  111.459579  56.705570\n",
       "2021-01-06  6.264221  114.266579  57.392853\n",
       "2021-01-07  6.292609  120.018944  57.263702\n",
       "2021-01-08  6.368309  117.310791  56.549496\n",
       "...              ...         ...        ...\n",
       "2021-09-13  9.340000  123.114326  54.619999\n",
       "2021-09-14  9.300000  122.586494  54.410000\n",
       "2021-09-15  9.240000  121.002998  54.570000\n",
       "2021-09-16  9.140000  120.790001  54.430000\n",
       "2021-09-17  9.115000  118.639999  54.444401\n",
       "\n",
       "[179 rows x 3 columns]"
      ]
     },
     "execution_count": 9,
     "metadata": {},
     "output_type": "execute_result"
    }
   ],
   "source": [
    "daily_close_pr = all_data[['Adj Close']].reset_index().pivot('Date', 'Ticker', 'Adj Close')\n",
    "daily_close_pr"
   ]
  },
  {
   "cell_type": "code",
   "execution_count": 10,
   "metadata": {},
   "outputs": [
    {
     "data": {
      "text/html": [
       "<div>\n",
       "<style scoped>\n",
       "    .dataframe tbody tr th:only-of-type {\n",
       "        vertical-align: middle;\n",
       "    }\n",
       "\n",
       "    .dataframe tbody tr th {\n",
       "        vertical-align: top;\n",
       "    }\n",
       "\n",
       "    .dataframe thead th {\n",
       "        text-align: right;\n",
       "    }\n",
       "</style>\n",
       "<table border=\"1\" class=\"dataframe\">\n",
       "  <thead>\n",
       "    <tr style=\"text-align: right;\">\n",
       "      <th>Ticker</th>\n",
       "      <th>ET</th>\n",
       "      <th>TSM</th>\n",
       "      <th>VZ</th>\n",
       "    </tr>\n",
       "    <tr>\n",
       "      <th>Date</th>\n",
       "      <th></th>\n",
       "      <th></th>\n",
       "      <th></th>\n",
       "    </tr>\n",
       "  </thead>\n",
       "  <tbody>\n",
       "    <tr>\n",
       "      <th>2021-01-04</th>\n",
       "      <td>NaN</td>\n",
       "      <td>NaN</td>\n",
       "      <td>NaN</td>\n",
       "    </tr>\n",
       "    <tr>\n",
       "      <th>2021-01-05</th>\n",
       "      <td>0.059016</td>\n",
       "      <td>0.009579</td>\n",
       "      <td>-0.004588</td>\n",
       "    </tr>\n",
       "    <tr>\n",
       "      <th>2021-01-06</th>\n",
       "      <td>0.024768</td>\n",
       "      <td>0.025184</td>\n",
       "      <td>0.012120</td>\n",
       "    </tr>\n",
       "    <tr>\n",
       "      <th>2021-01-07</th>\n",
       "      <td>0.004532</td>\n",
       "      <td>0.050342</td>\n",
       "      <td>-0.002250</td>\n",
       "    </tr>\n",
       "    <tr>\n",
       "      <th>2021-01-08</th>\n",
       "      <td>0.012030</td>\n",
       "      <td>-0.022564</td>\n",
       "      <td>-0.012472</td>\n",
       "    </tr>\n",
       "    <tr>\n",
       "      <th>...</th>\n",
       "      <td>...</td>\n",
       "      <td>...</td>\n",
       "      <td>...</td>\n",
       "    </tr>\n",
       "    <tr>\n",
       "      <th>2021-09-13</th>\n",
       "      <td>0.004301</td>\n",
       "      <td>0.005286</td>\n",
       "      <td>0.007192</td>\n",
       "    </tr>\n",
       "    <tr>\n",
       "      <th>2021-09-14</th>\n",
       "      <td>-0.004283</td>\n",
       "      <td>-0.004287</td>\n",
       "      <td>-0.003845</td>\n",
       "    </tr>\n",
       "    <tr>\n",
       "      <th>2021-09-15</th>\n",
       "      <td>-0.006452</td>\n",
       "      <td>-0.012917</td>\n",
       "      <td>0.002941</td>\n",
       "    </tr>\n",
       "    <tr>\n",
       "      <th>2021-09-16</th>\n",
       "      <td>-0.010822</td>\n",
       "      <td>-0.001760</td>\n",
       "      <td>-0.002566</td>\n",
       "    </tr>\n",
       "    <tr>\n",
       "      <th>2021-09-17</th>\n",
       "      <td>-0.002735</td>\n",
       "      <td>-0.017799</td>\n",
       "      <td>0.000265</td>\n",
       "    </tr>\n",
       "  </tbody>\n",
       "</table>\n",
       "<p>179 rows × 3 columns</p>\n",
       "</div>"
      ],
      "text/plain": [
       "Ticker            ET       TSM        VZ\n",
       "Date                                    \n",
       "2021-01-04       NaN       NaN       NaN\n",
       "2021-01-05  0.059016  0.009579 -0.004588\n",
       "2021-01-06  0.024768  0.025184  0.012120\n",
       "2021-01-07  0.004532  0.050342 -0.002250\n",
       "2021-01-08  0.012030 -0.022564 -0.012472\n",
       "...              ...       ...       ...\n",
       "2021-09-13  0.004301  0.005286  0.007192\n",
       "2021-09-14 -0.004283 -0.004287 -0.003845\n",
       "2021-09-15 -0.006452 -0.012917  0.002941\n",
       "2021-09-16 -0.010822 -0.001760 -0.002566\n",
       "2021-09-17 -0.002735 -0.017799  0.000265\n",
       "\n",
       "[179 rows x 3 columns]"
      ]
     },
     "execution_count": 10,
     "metadata": {},
     "output_type": "execute_result"
    }
   ],
   "source": [
    "daily_pct_change = daily_close_pr.pct_change()\n",
    "daily_pct_change"
   ]
  },
  {
   "cell_type": "markdown",
   "metadata": {},
   "source": [
    "2. Определите ценную бумагу, имеющую максимальную медиану дневной доходности, и постройте график изменения ее стоимости. \n"
   ]
  },
  {
   "cell_type": "code",
   "execution_count": 17,
   "metadata": {},
   "outputs": [
    {
     "name": "stdout",
     "output_type": "stream",
     "text": [
      "Ticker\n",
      "ET     0.002054\n",
      "TSM    0.001323\n",
      "VZ     0.000000\n",
      "dtype: float64\n"
     ]
    }
   ],
   "source": [
    "mediana=daily_pct_change.median()\n",
    "print(mediana)"
   ]
  },
  {
   "cell_type": "markdown",
   "metadata": {},
   "source": [
    "Ценная бумагу, имеющую максимальную медиану дневной доходности это 'ET' со значением 0.002054"
   ]
  },
  {
   "cell_type": "markdown",
   "metadata": {},
   "source": [
    "График изменения ее стоимости"
   ]
  },
  {
   "cell_type": "code",
   "execution_count": 23,
   "metadata": {},
   "outputs": [
    {
     "data": {
      "image/png": "[encoded data removed]",
      "text/plain": [
       "<Figure size 432x288 with 1 Axes>"
      ]
     },
     "metadata": {
      "needs_background": "light"
     },
     "output_type": "display_data"
    }
   ],
   "source": [
    "daily_close_pr['ET'].plot.line(grid=True,title='График изменения стоимости ценных бумаг ET.');"
   ]
  },
  {
   "cell_type": "markdown",
   "metadata": {},
   "source": [
    "Для ценной бумаги, имеющей минимальную дневную доходность, постройте гистограмму для дневных доходностей."
   ]
  },
  {
   "cell_type": "code",
   "execution_count": 24,
   "metadata": {},
   "outputs": [
    {
     "name": "stdout",
     "output_type": "stream",
     "text": [
      "Ticker\n",
      "ET    -0.059912\n",
      "TSM   -0.059403\n",
      "VZ    -0.031667\n",
      "dtype: float64\n"
     ]
    }
   ],
   "source": [
    "minimum=daily_pct_change.min()\n",
    "print(minimum)"
   ]
  },
  {
   "cell_type": "markdown",
   "metadata": {},
   "source": [
    "3.Ценной бумаги, имеющей минимальную дневную доходность это 'ET' со значением -0.059912"
   ]
  },
  {
   "cell_type": "code",
   "execution_count": 30,
   "metadata": {},
   "outputs": [
    {
     "data": {
      "image/png": "[encoded data removed]",
      "text/plain": [
       "<Figure size 432x288 with 1 Axes>"
      ]
     },
     "metadata": {
      "needs_background": "light"
     },
     "output_type": "display_data"
    }
   ],
   "source": [
    "daily_close_pr['ET'].plot.hist(bins=15,title='Гистограмму для дневных доходностей ET.');\n"
   ]
  },
  {
   "cell_type": "markdown",
   "metadata": {},
   "source": [
    "3. Для ценной бумаги, имеющей максимальную дисперсию дневной доходности, постройте и визуализируйте эмпирическую функцию распределения дневной доходности."
   ]
  },
  {
   "cell_type": "code",
   "execution_count": 31,
   "metadata": {},
   "outputs": [
    {
     "name": "stdout",
     "output_type": "stream",
     "text": [
      "Ticker\n",
      "ET     0.023123\n",
      "TSM    0.022304\n",
      "VZ     0.008674\n",
      "dtype: float64\n"
     ]
    }
   ],
   "source": [
    "dispersia=daily_pct_change.std()\n",
    "print(dispersia)"
   ]
  },
  {
   "cell_type": "markdown",
   "metadata": {},
   "source": [
    "Для ценной бумаги, имеющей максимальную дисперсию дневной доходности это 'ET' со значением 0.023123 "
   ]
  },
  {
   "cell_type": "markdown",
   "metadata": {},
   "source": [
    "Постройте и визуализируйте эмпирическую функцию распределения дневной доходности."
   ]
  },
  {
   "cell_type": "code",
   "execution_count": 35,
   "metadata": {},
   "outputs": [],
   "source": [
    "def ECDF(data, x):\n",
    "    counter = 0\n",
    "    for v in data:\n",
    "        if v <= x:\n",
    "            counter += 1\n",
    "    return counter / len(data)"
   ]
  },
  {
   "cell_type": "code",
   "execution_count": 36,
   "metadata": {},
   "outputs": [],
   "source": [
    "samples = daily_pct_change['ET']\n",
    "npoints = 500\n",
    "dx = (samples.max()-samples.min())/npoints\n",
    "\n",
    "xlist = [samples.min()+dx*i for i in range(npoints)]\n",
    "ylist = [ECDF(samples, x) for x in xlist]"
   ]
  },
  {
   "cell_type": "code",
   "execution_count": 39,
   "metadata": {},
   "outputs": [
    {
     "data": {
      "image/png": "[encoded data removed]",
      "text/plain": [
       "<Figure size 432x288 with 1 Axes>"
      ]
     },
     "metadata": {
      "needs_background": "light"
     },
     "output_type": "display_data"
    }
   ],
   "source": [
    "import matplotlib.pyplot as plt\n",
    "\n",
    "plt.plot(xlist, ylist,'r'); # red color"
   ]
  },
  {
   "cell_type": "markdown",
   "metadata": {},
   "source": [
    "5. Вычислите матрицу ковариации дневных доходностей ценных бумаг и для пары ценных бумаг с наиболее высокой ковариацией постройте диаграмму рассеяния стоимости ценных бумаг"
   ]
  },
  {
   "cell_type": "code",
   "execution_count": 42,
   "metadata": {},
   "outputs": [
    {
     "data": {
      "text/html": [
       "<div>\n",
       "<style scoped>\n",
       "    .dataframe tbody tr th:only-of-type {\n",
       "        vertical-align: middle;\n",
       "    }\n",
       "\n",
       "    .dataframe tbody tr th {\n",
       "        vertical-align: top;\n",
       "    }\n",
       "\n",
       "    .dataframe thead th {\n",
       "        text-align: right;\n",
       "    }\n",
       "</style>\n",
       "<table border=\"1\" class=\"dataframe\">\n",
       "  <thead>\n",
       "    <tr style=\"text-align: right;\">\n",
       "      <th>Ticker</th>\n",
       "      <th>ET</th>\n",
       "      <th>TSM</th>\n",
       "      <th>VZ</th>\n",
       "    </tr>\n",
       "    <tr>\n",
       "      <th>Ticker</th>\n",
       "      <th></th>\n",
       "      <th></th>\n",
       "      <th></th>\n",
       "    </tr>\n",
       "  </thead>\n",
       "  <tbody>\n",
       "    <tr>\n",
       "      <th>ET</th>\n",
       "      <td>0.000535</td>\n",
       "      <td>0.000055</td>\n",
       "      <td>0.000030</td>\n",
       "    </tr>\n",
       "    <tr>\n",
       "      <th>TSM</th>\n",
       "      <td>0.000055</td>\n",
       "      <td>0.000497</td>\n",
       "      <td>-0.000014</td>\n",
       "    </tr>\n",
       "    <tr>\n",
       "      <th>VZ</th>\n",
       "      <td>0.000030</td>\n",
       "      <td>-0.000014</td>\n",
       "      <td>0.000075</td>\n",
       "    </tr>\n",
       "  </tbody>\n",
       "</table>\n",
       "</div>"
      ],
      "text/plain": [
       "Ticker        ET       TSM        VZ\n",
       "Ticker                              \n",
       "ET      0.000535  0.000055  0.000030\n",
       "TSM     0.000055  0.000497 -0.000014\n",
       "VZ      0.000030 -0.000014  0.000075"
      ]
     },
     "execution_count": 42,
     "metadata": {},
     "output_type": "execute_result"
    }
   ],
   "source": [
    "daily_pct_change.cov()"
   ]
  },
  {
   "cell_type": "markdown",
   "metadata": {},
   "source": [
    "Наиболее высокая ковариация дневных доходностей для пары разных ценных бумаг - 0.000055 (TSM и ET)."
   ]
  },
  {
   "cell_type": "code",
   "execution_count": 43,
   "metadata": {},
   "outputs": [
    {
     "data": {
      "image/png": "[encoded data removed]",
      "text/plain": [
       "<Figure size 432x288 with 1 Axes>"
      ]
     },
     "metadata": {
      "needs_background": "light"
     },
     "output_type": "display_data"
    }
   ],
   "source": [
    "daily_close_pr.plot.scatter('ET','TSM',title='Диаграмма рассеяния стоимости ценных бумаг ET и TSM.');"
   ]
  }
 ],
 "metadata": {
  "kernelspec": {
   "display_name": "Python 3",
   "language": "python",
   "name": "python3"
  },
  "language_info": {
   "codemirror_mode": {
    "name": "ipython",
    "version": 3
   },
   "file_extension": ".py",
   "mimetype": "text/x-python",
   "name": "python",
   "nbconvert_exporter": "python",
   "pygments_lexer": "ipython3",
   "version": "3.8.8"
  }
 },
 "nbformat": 4,
 "nbformat_minor": 2
}
