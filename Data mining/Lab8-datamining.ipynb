{
 "cells": [
  {
   "cell_type": "markdown",
   "id": "84d6e812",
   "metadata": {},
   "source": [
    "### РОССИЙСКИЙ УНИВЕРСИТЕТ ДРУЖБЫ НАРОДОВ\n"
   ]
  },
  {
   "cell_type": "markdown",
   "id": "8d262066",
   "metadata": {},
   "source": [
    "#### Факультет физико-математических и естественных наук  \n",
    "#### Кафедра информационных технологий "
   ]
  },
  {
   "cell_type": "markdown",
   "id": "10bf4d12",
   "metadata": {},
   "source": [
    "## ОТЧЕТ ПО ЛАБОРАТОРНОЙ РАБОТЕ № 8\n"
   ]
  },
  {
   "cell_type": "markdown",
   "id": "3208b2b1",
   "metadata": {},
   "source": [
    "#### Дисциплина: Интеллектуальный анализ данных"
   ]
  },
  {
   "cell_type": "markdown",
   "id": "99fab868",
   "metadata": {},
   "source": [
    "##### Студент:  Гебриал Ибрам Есам Зекри\n",
    "##### Группа:   НПИбд-01-18"
   ]
  },
  {
   "cell_type": "markdown",
   "id": "a06534c0",
   "metadata": {},
   "source": [
    "## Москва 2021\n",
    "***"
   ]
  },
  {
   "cell_type": "markdown",
   "id": "c07865db",
   "metadata": {},
   "source": [
    "### вариант 1"
   ]
  },
  {
   "cell_type": "markdown",
   "id": "d56d31a2",
   "metadata": {},
   "source": [
    "Annealing Data Set \n",
    "\n",
    "Название файла: anneal.data \n",
    "\n",
    "Ссылка: https://archive.ics.uci.edu/ml/machine-learning-databases/annealing/ \n",
    "\n",
    "Предиктор: thick (столбец No 33) \n",
    "\n",
    "Зависимая переменная: width (столбец No 34) "
   ]
  },
  {
   "cell_type": "markdown",
   "id": "3ce9cf3a",
   "metadata": {},
   "source": [
    "1. Считайте заданный набор данных из репозитария UCI (независимую и зависимую переменные).\n",
    "\n",
    "2. Если в столбцах для независимой или зависимой переменных имеются пропущенные значения, то удалите данные.\n",
    "\n",
    "3. Масштабируйте независимую и зависимую переменную на диапазон от 0 до 1 и визуализируйте набор данных на плоскости (ось абсцисс - независимая переменная, ось ординат - зависимая переменная).\n",
    "\n",
    "4. Разбейте набор данных на обучающую и тестовую выборки.\n",
    "\n",
    "5. Постройте регресоры на базе следующих моделей регрессии:\n",
    "\n",
    "- линейной регрессии (LinearRegression)\n",
    "- полиномиальной регрессии (PolynomialFeatures+LinearRegression)\n",
    "- стохастического градиентного спуска (SGDRegressor)\n",
    "- гребневой регрессии (Ridge)\n",
    "- лассо регрессии (Lasso)\n",
    "- регрессии эластичная сеть (ElasticNet)\n",
    "- регрессии на основе метода ближайших соседей (KNeighborsRegressor)\n",
    "- регрессии на основе деревьев решений (DecisionTreeRegressor)\n",
    "- регрессии на основе метода опорных векторов (SVR)\n",
    "\n",
    "6. При помощи GridSearch определите оптимальные параметры регрессоров (кроме LinearRegression).\n",
    "\n",
    "7. Визуализируйте на плоскости точки тестовой выборки и графики различных моделей регрессий разными цветами. Подпишите оси и создайте легенду для графика.\n",
    "\n",
    "8. Определите лучший регрессор по показателю коэффициент детерминации.\n",
    "\n",
    "9. Для лучшего регрессора визуализируйте кривые обучения (в зависимости от количества точек в обучающей выборке)."
   ]
  },
  {
   "cell_type": "code",
   "execution_count": 1,
   "id": "22fd95a0",
   "metadata": {},
   "outputs": [],
   "source": [
    "import numpy as np\n",
    "import matplotlib.pyplot as plt\n",
    "import pandas as pd\n",
    "%matplotlib inline"
   ]
  },
  {
   "cell_type": "markdown",
   "id": "437c23d8",
   "metadata": {},
   "source": [
    "#### 1. Считайте заданный набор данных из репозитария UCI (независимую и зависимую переменные)."
   ]
  },
  {
   "cell_type": "code",
   "execution_count": 2,
   "id": "a6cb1923",
   "metadata": {},
   "outputs": [
    {
     "name": "stdout",
     "output_type": "stream",
     "text": [
      "\n",
      "*** Начало данных:\n",
      "    thick   width\n",
      "0  0.700   610.0\n",
      "1  3.200   610.0\n",
      "2  0.700  1300.0\n",
      "3  2.801   385.1\n",
      "4  0.801   255.0\n",
      "\n",
      "*** Конец данных:\n",
      "      thick   width\n",
      "793  1.001    50.0\n",
      "794  0.699  1300.0\n",
      "795  0.400   609.9\n",
      "796  3.200   610.0\n",
      "797  1.599  1500.0\n",
      "\n",
      "*** Сводка данных:\n",
      "             thick        width\n",
      "count  798.000000   798.000000\n",
      "mean     1.181847   781.744361\n",
      "std      0.861608   404.722346\n",
      "min      0.250000     0.000000\n",
      "25%      0.601000   609.900000\n",
      "50%      0.800000   610.000000\n",
      "75%      1.600000  1250.000000\n",
      "max      4.000000  1525.000000\n"
     ]
    }
   ],
   "source": [
    "url = \\\n",
    "\"https://archive.ics.uci.edu/ml/machine-learning-databases/annealing/anneal.data\"\n",
    "# считываем данные в объект DataFrame\n",
    "my_data = pd.read_csv( url,sep=\",\" ,header=None,usecols=(32,33) )\n",
    "my_data.columns = ['thick', 'width']\n",
    "print(\"\\n*** Начало данных:\\n\", my_data.head()) #начальные данные\n",
    "print(\"\\n*** Конец данных:\\n\",  my_data.tail()) #конечные данные\n",
    "\n",
    "summary = my_data.describe()                    #сводка данных \n",
    "print(\"\\n*** Сводка данных:\\n\", summary)"
   ]
  },
  {
   "cell_type": "code",
   "execution_count": 4,
   "id": "7cda2741",
   "metadata": {},
   "outputs": [
    {
     "name": "stdout",
     "output_type": "stream",
     "text": [
      "<class 'pandas.core.frame.DataFrame'>\n",
      "RangeIndex: 798 entries, 0 to 797\n",
      "Data columns (total 2 columns):\n",
      " #   Column  Non-Null Count  Dtype  \n",
      "---  ------  --------------  -----  \n",
      " 0   thick   798 non-null    float64\n",
      " 1   width   798 non-null    float64\n",
      "dtypes: float64(2)\n",
      "memory usage: 12.6 KB\n"
     ]
    }
   ],
   "source": [
    "my_data.info()"
   ]
  },
  {
   "cell_type": "markdown",
   "id": "1f3326a7",
   "metadata": {},
   "source": [
    "#### 2. Если в столбцах для независимой или зависимой переменных имеются пропущенные значения, то удалите данные"
   ]
  },
  {
   "cell_type": "code",
   "execution_count": 3,
   "id": "a2485379",
   "metadata": {},
   "outputs": [
    {
     "name": "stdout",
     "output_type": "stream",
     "text": [
      "Число отсутствующих значений:\n",
      "\tthick: 0\n",
      "\twidth: 0\n"
     ]
    }
   ],
   "source": [
    "my_data = my_data.replace('?',np.NaN) # заменить '?' на np.NaN\n",
    "print('Число отсутствующих значений:')\n",
    "for col in my_data.columns:\n",
    "    print('\\t%s: %d' % (col,my_data[col].isna().sum()))"
   ]
  },
  {
   "cell_type": "markdown",
   "id": "3f49b2b0",
   "metadata": {},
   "source": [
    "У меня нет пропущенных значений"
   ]
  },
  {
   "cell_type": "markdown",
   "id": "10fb4185",
   "metadata": {},
   "source": [
    "#### 3. Масштабируйте независимую и зависимую переменную на диапазон от 0 до 1 и визуализируйте набор данных на плоскости (ось абсцисс - независимая переменная, ось ординат - зависимая переменная)"
   ]
  },
  {
   "cell_type": "code",
   "execution_count": 4,
   "id": "90e984a5",
   "metadata": {},
   "outputs": [
    {
     "name": "stdout",
     "output_type": "stream",
     "text": [
      "[[0.12  0.4  ]\n",
      " [0.787 0.4  ]\n",
      " [0.12  0.852]\n",
      " [0.68  0.253]\n",
      " [0.147 0.167]]\n"
     ]
    }
   ],
   "source": [
    "from sklearn.preprocessing import MinMaxScaler\n",
    "np.set_printoptions(precision=3)\n",
    "scaler = MinMaxScaler(feature_range=(0, 1))\n",
    "my_data = scaler.fit_transform(my_data[[\"thick\",\"width\"]])\n",
    "\n",
    "print(my_data[:5,:])"
   ]
  },
  {
   "cell_type": "code",
   "execution_count": 5,
   "id": "57791585",
   "metadata": {},
   "outputs": [],
   "source": [
    "x=my_data[:,0]\n",
    "y=my_data[:, 1]"
   ]
  },
  {
   "cell_type": "code",
   "execution_count": 6,
   "id": "af681bdf",
   "metadata": {},
   "outputs": [
    {
     "data": {
      "image/png": "[encoded data removed]",
      "text/plain": [
       "<Figure size 432x288 with 1 Axes>"
      ]
     },
     "metadata": {
      "needs_background": "light"
     },
     "output_type": "display_data"
    }
   ],
   "source": [
    "plt.xlabel('thick', fontsize = 15)\n",
    "plt.ylabel('width', fontsize = 15)\n",
    "plt.title('Regression')\n",
    "plt.scatter(x,y)\n",
    "plt.show()"
   ]
  },
  {
   "cell_type": "markdown",
   "id": "df04a31a",
   "metadata": {},
   "source": [
    "#### 4. Разбейте набор данных на обучающую и тестовую выборки."
   ]
  },
  {
   "cell_type": "code",
   "execution_count": 7,
   "id": "224de414",
   "metadata": {},
   "outputs": [],
   "source": [
    "def train_test_split(X, y, test_ratio=0.2, seed=None):\n",
    "    \n",
    "    assert X.shape[0] == y.shape[0], \\\n",
    "        \"the size of X must be equal to the size of y\"\n",
    "    assert 0.0 <= test_ratio <= 1.0, \\\n",
    "        \"test_ration must be valid\"\n",
    "\n",
    "    if seed:\n",
    "        np.random.seed(seed)\n",
    "\n",
    "    shuffled_indexes = np.random.permutation(len(X))\n",
    "\n",
    "    test_size = int(len(X) * test_ratio)\n",
    "    test_indexes = shuffled_indexes[:test_size]\n",
    "    train_indexes = shuffled_indexes[test_size:]\n",
    "\n",
    "    X_train = X[train_indexes]\n",
    "    y_train = y[train_indexes]\n",
    "\n",
    "    X_test = X[test_indexes]\n",
    "    y_test = y[test_indexes]\n",
    "\n",
    "    return X_train, X_test, y_train, y_test"
   ]
  },
  {
   "cell_type": "code",
   "execution_count": 34,
   "id": "84856ce9",
   "metadata": {},
   "outputs": [
    {
     "data": {
      "text/plain": [
       "((639,), (159,), (639,), (159,))"
      ]
     },
     "execution_count": 34,
     "metadata": {},
     "output_type": "execute_result"
    }
   ],
   "source": [
    "X_train, X_test, y_train, y_test = train_test_split(x, y)\n",
    "X_train.shape, X_test.shape, y_train.shape, y_test.shape"
   ]
  },
  {
   "cell_type": "code",
   "execution_count": 35,
   "id": "32953af4",
   "metadata": {},
   "outputs": [
    {
     "data": {
      "text/plain": [
       "((639, 1), (159, 1))"
      ]
     },
     "execution_count": 35,
     "metadata": {},
     "output_type": "execute_result"
    }
   ],
   "source": [
    "X_train = X_train[:, np.newaxis]\n",
    "X_test = X_test[:, np.newaxis]\n",
    "X_train.shape, X_test.shape"
   ]
  },
  {
   "cell_type": "markdown",
   "id": "969e28d8",
   "metadata": {},
   "source": [
    "#### 5. Постройте регресоры на базе следующих моделей регрессии:\n",
    "\n",
    "- линейной регрессии (LinearRegression)\n",
    "- полиномиальной регрессии (PolynomialFeatures+LinearRegression)\n",
    "- стохастического градиентного спуска (SGDRegressor)\n",
    "- гребневой регрессии (Ridge)\n",
    "- лассо регрессии (Lasso)\n",
    "- регрессии эластичная сеть (ElasticNet)\n",
    "- регрессии на основе метода ближайших соседей (KNeighborsRegressor)\n",
    "- регрессии на основе деревьев решений (DecisionTreeRegressor)\n",
    "- регрессии на основе метода опорных векторов (SVR)"
   ]
  },
  {
   "cell_type": "code",
   "execution_count": 24,
   "id": "3caa9c33",
   "metadata": {},
   "outputs": [],
   "source": [
    "from sklearn.preprocessing import StandardScaler\n",
    "standardScaler = StandardScaler()\n",
    "standardScaler.fit(X_train)\n",
    "X_train_standard = standardScaler.transform(X_train)\n",
    "X_test_standard = standardScaler.transform(X_test)"
   ]
  },
  {
   "cell_type": "markdown",
   "id": "0cf692db",
   "metadata": {},
   "source": [
    "линейной регрессии (LinearRegression)"
   ]
  },
  {
   "cell_type": "code",
   "execution_count": 36,
   "id": "ba8d1493",
   "metadata": {},
   "outputs": [
    {
     "data": {
      "text/plain": [
       "0.0014953635609966653"
      ]
     },
     "execution_count": 36,
     "metadata": {},
     "output_type": "execute_result"
    }
   ],
   "source": [
    "from sklearn.linear_model import LinearRegression\n",
    "lin_reg = LinearRegression()\n",
    "lin_reg.fit(X_train, y_train)\n",
    "lin_reg.score(X_test, y_test)\n"
   ]
  },
  {
   "cell_type": "markdown",
   "id": "5e877261",
   "metadata": {},
   "source": [
    "полиномиальной регрессии (PolynomialFeatures+LinearRegression)"
   ]
  },
  {
   "cell_type": "code",
   "execution_count": 37,
   "id": "233794d2",
   "metadata": {},
   "outputs": [
    {
     "data": {
      "text/plain": [
       "-0.001119822160879913"
      ]
     },
     "execution_count": 37,
     "metadata": {},
     "output_type": "execute_result"
    }
   ],
   "source": [
    "from sklearn.pipeline import Pipeline\n",
    "from sklearn.preprocessing import PolynomialFeatures\n",
    "from sklearn.preprocessing import StandardScaler\n",
    "\n",
    "def PolynomialRegression(degree):\n",
    "    return Pipeline([\n",
    "        (\"poly\", PolynomialFeatures(degree=degree)),\n",
    "        (\"std_scaler\", StandardScaler()),\n",
    "        (\"lin_reg\", LinearRegression())\n",
    "    ])\n",
    "\n",
    "poly2_reg = PolynomialRegression(degree=2)\n",
    "poly2_reg.fit(X_train, y_train)\n",
    "poly2_reg.score(X_test, y_test)\n"
   ]
  },
  {
   "cell_type": "markdown",
   "id": "9b290bf1",
   "metadata": {},
   "source": [
    "стохастического градиентного спуска (SGDRegressor)"
   ]
  },
  {
   "cell_type": "code",
   "execution_count": 38,
   "id": "5b0acb04",
   "metadata": {},
   "outputs": [
    {
     "data": {
      "text/plain": [
       "-0.007378262493521026"
      ]
     },
     "execution_count": 38,
     "metadata": {},
     "output_type": "execute_result"
    }
   ],
   "source": [
    "from sklearn.linear_model import SGDRegressor\n",
    "sgd_reg = SGDRegressor()\n",
    "sgd_reg.fit(X_train_standard, y_train)\n",
    "sgd_reg.score(X_test_standard, y_test)\n"
   ]
  },
  {
   "cell_type": "markdown",
   "id": "745d816e",
   "metadata": {},
   "source": [
    "гребневой регрессии (Ridge)"
   ]
  },
  {
   "cell_type": "code",
   "execution_count": 39,
   "id": "02e81ecc",
   "metadata": {},
   "outputs": [
    {
     "data": {
      "text/plain": [
       "0.00029754103037538115"
      ]
     },
     "execution_count": 39,
     "metadata": {},
     "output_type": "execute_result"
    }
   ],
   "source": [
    "from sklearn.linear_model import Ridge\n",
    "from sklearn.pipeline import Pipeline\n",
    "from sklearn.preprocessing import PolynomialFeatures\n",
    "from sklearn.metrics import mean_squared_error\n",
    "\n",
    "def RidgeRegression(degree, alpha):\n",
    "    return Pipeline([\n",
    "        (\"poly\", PolynomialFeatures(degree=degree)),\n",
    "        (\"std_scaler\", StandardScaler()),\n",
    "        (\"ridge_reg\", Ridge(alpha=alpha))\n",
    "    ])\n",
    "\n",
    "ridge1_reg = RidgeRegression(20, 0.0001)\n",
    "ridge1_reg.fit(X_train, y_train)\n",
    "\n",
    "y1_predict = ridge1_reg.predict(X_test)\n",
    "\n",
    "ridge1_reg.score(X_test, y_test)\n"
   ]
  },
  {
   "cell_type": "markdown",
   "id": "f4c731f8",
   "metadata": {},
   "source": [
    "лассо регрессии (Lasso)"
   ]
  },
  {
   "cell_type": "code",
   "execution_count": 40,
   "id": "38ac6a78",
   "metadata": {},
   "outputs": [
    {
     "data": {
      "text/plain": [
       "-0.003993244255765305"
      ]
     },
     "execution_count": 40,
     "metadata": {},
     "output_type": "execute_result"
    }
   ],
   "source": [
    "from sklearn.linear_model import Lasso\n",
    "def LassoRegression(degree, alpha):\n",
    "    return Pipeline([\n",
    "        (\"poly\", PolynomialFeatures(degree=degree)),\n",
    "        (\"std_scaler\", StandardScaler()),\n",
    "        (\"lasso_reg\", Lasso(alpha=alpha))\n",
    "    ])\n",
    "\n",
    "lasso1_reg = LassoRegression(20, 0.01)\n",
    "lasso1_reg.fit(X_train, y_train)\n",
    "y1_predict = lasso1_reg.predict(X_test)\n",
    "lasso1_reg.score(X_test, y_test)\n"
   ]
  },
  {
   "cell_type": "markdown",
   "id": "3e2f5428",
   "metadata": {},
   "source": [
    "регрессии эластичная сеть (ElasticNet)"
   ]
  },
  {
   "cell_type": "code",
   "execution_count": 41,
   "id": "3f84533a",
   "metadata": {},
   "outputs": [
    {
     "data": {
      "text/plain": [
       "-0.004156177004614792"
      ]
     },
     "execution_count": 41,
     "metadata": {},
     "output_type": "execute_result"
    }
   ],
   "source": [
    "from sklearn.linear_model import ElasticNet\n",
    "\n",
    "def ElNetRegression(degree, alpha):\n",
    "    return Pipeline([\n",
    "        (\"poly\", PolynomialFeatures(degree=degree)),\n",
    "        (\"std_scaler\", StandardScaler()),\n",
    "        (\"elnet_reg\", ElasticNet(alpha=alpha))\n",
    "    ])\n",
    "\n",
    "elnet1_reg = ElNetRegression(20, 0.01)\n",
    "elnet1_reg.fit(X_train, y_train)\n",
    "\n",
    "y1_predict = elnet1_reg.predict(X_test)\n",
    "elnet1_reg.score(X_test, y_test)\n",
    "\n"
   ]
  },
  {
   "cell_type": "markdown",
   "id": "46480ba7",
   "metadata": {},
   "source": [
    "регрессии на основе метода ближайших соседей (KNeighborsRegressor)"
   ]
  },
  {
   "cell_type": "code",
   "execution_count": 42,
   "id": "c4ddc897",
   "metadata": {},
   "outputs": [
    {
     "data": {
      "text/plain": [
       "-0.2728894596441436"
      ]
     },
     "execution_count": 42,
     "metadata": {},
     "output_type": "execute_result"
    }
   ],
   "source": [
    "from sklearn.neighbors import KNeighborsRegressor\n",
    "\n",
    "knn_reg = KNeighborsRegressor()\n",
    "knn_reg.fit(X_train_standard, y_train)\n",
    "knn_reg.score(X_test_standard, y_test)\n"
   ]
  },
  {
   "cell_type": "markdown",
   "id": "70a762b1",
   "metadata": {},
   "source": [
    "регрессии на основе деревьев решений (DecisionTreeRegressor)"
   ]
  },
  {
   "cell_type": "code",
   "execution_count": 43,
   "id": "ac096a99",
   "metadata": {},
   "outputs": [
    {
     "data": {
      "text/plain": [
       "-0.00029659723125474713"
      ]
     },
     "execution_count": 43,
     "metadata": {},
     "output_type": "execute_result"
    }
   ],
   "source": [
    "from sklearn.tree import DecisionTreeRegressor\n",
    "\n",
    "def TreeRegression(max_leaf_nodes=None):\n",
    "    return Pipeline([\n",
    "        (\"std_scaler\", StandardScaler()),\n",
    "        (\"tree_reg\", DecisionTreeRegressor(max_leaf_nodes=max_leaf_nodes))\n",
    "    ])\n",
    "\n",
    "tree1_reg = TreeRegression(4)\n",
    "tree1_reg.fit(X_train, y_train)\n",
    "\n",
    "y1_predict = tree1_reg.predict(X_test)\n",
    "tree1_reg.score(X_test, y_test)\n"
   ]
  },
  {
   "cell_type": "markdown",
   "id": "d9320cab",
   "metadata": {},
   "source": [
    "регрессии на основе метода опорных векторов (SVR)"
   ]
  },
  {
   "cell_type": "code",
   "execution_count": 44,
   "id": "d07d2335",
   "metadata": {},
   "outputs": [
    {
     "data": {
      "text/plain": [
       "-0.005624957161050048"
      ]
     },
     "execution_count": 44,
     "metadata": {},
     "output_type": "execute_result"
    }
   ],
   "source": [
    "from sklearn.svm import SVR\n",
    "\n",
    "def SVMRegression(degree):\n",
    "    return Pipeline([\n",
    "        (\"std_scaler\", StandardScaler()),\n",
    "        (\"svm_reg\", SVR(kernel='poly',degree=degree))\n",
    "    ])\n",
    "svm1_reg = SVMRegression(5)\n",
    "svm1_reg.fit(X_train, y_train)\n",
    "\n",
    "y1_predict = svm1_reg.predict(X_test)\n",
    "svm1_reg.score(X_test, y_test)\n"
   ]
  },
  {
   "cell_type": "markdown",
   "id": "52ace61c",
   "metadata": {},
   "source": [
    "#### 6. При помощи GridSearch определите оптимальные параметры регрессоров (кроме LinearRegression)."
   ]
  },
  {
   "cell_type": "code",
   "execution_count": 45,
   "id": "e1be5fe3",
   "metadata": {},
   "outputs": [],
   "source": [
    "from sklearn.model_selection import GridSearchCV"
   ]
  },
  {
   "cell_type": "markdown",
   "id": "536c56ea",
   "metadata": {},
   "source": [
    "полиномиальной регрессии (PolynomialFeatures+LinearRegression)"
   ]
  },
  {
   "cell_type": "code",
   "execution_count": 46,
   "id": "4a52f639",
   "metadata": {},
   "outputs": [
    {
     "name": "stdout",
     "output_type": "stream",
     "text": [
      "Fitting 5 folds for each of 99 candidates, totalling 495 fits\n"
     ]
    },
    {
     "data": {
      "text/plain": [
       "{'poly__degree': 4}"
      ]
     },
     "execution_count": 46,
     "metadata": {},
     "output_type": "execute_result"
    }
   ],
   "source": [
    "param_grid = [\n",
    "    {\n",
    "        \"poly__degree\": [i for i in range(1, 100)]\n",
    "    }\n",
    "]\n",
    "\n",
    "grid_searchPoly = GridSearchCV(poly2_reg, param_grid, n_jobs = -1, verbose = 1)\n",
    "grid_searchPoly.fit(X_train, y_train)\n",
    "\n",
    "grid_searchPoly.best_params_"
   ]
  },
  {
   "cell_type": "code",
   "execution_count": null,
   "id": "172f757d",
   "metadata": {},
   "outputs": [],
   "source": []
  },
  {
   "cell_type": "markdown",
   "id": "8a0cd61c",
   "metadata": {},
   "source": [
    "стохастического градиентного спуска (SGDRegressor)"
   ]
  },
  {
   "cell_type": "code",
   "execution_count": 47,
   "id": "94853c0b",
   "metadata": {},
   "outputs": [
    {
     "name": "stdout",
     "output_type": "stream",
     "text": [
      "Fitting 5 folds for each of 1980 candidates, totalling 9900 fits\n"
     ]
    },
    {
     "data": {
      "text/plain": [
       "{'max_iter': 3705}"
      ]
     },
     "execution_count": 47,
     "metadata": {},
     "output_type": "execute_result"
    }
   ],
   "source": [
    "param_grid_sgd_reg = [\n",
    "    {\n",
    "        \"max_iter\": [i for i in range(100, 10000, 5)]\n",
    "    }\n",
    "]\n",
    "\n",
    "grid_searchSgd = GridSearchCV(sgd_reg, param_grid_sgd_reg, n_jobs=-1, verbose=1)\n",
    "grid_searchSgd.fit(X_train, y_train)\n",
    "grid_searchSgd.best_params_"
   ]
  },
  {
   "cell_type": "markdown",
   "id": "871dc3a7",
   "metadata": {},
   "source": [
    "гребневой регрессии (Ridge)"
   ]
  },
  {
   "cell_type": "code",
   "execution_count": 48,
   "id": "251bf55e",
   "metadata": {},
   "outputs": [
    {
     "name": "stdout",
     "output_type": "stream",
     "text": [
      "Fitting 5 folds for each of 792 candidates, totalling 3960 fits\n"
     ]
    },
    {
     "data": {
      "text/plain": [
       "{'poly__degree': 4, 'ridge_reg__alpha': 1e-05}"
      ]
     },
     "execution_count": 48,
     "metadata": {},
     "output_type": "execute_result"
    }
   ],
   "source": [
    "param_grid_ridge_reg = [\n",
    "    {\n",
    "        \"poly__degree\": [i for i in range(1, 100)],\n",
    "        \"ridge_reg__alpha\": [0.00001, 0.0001, 0.001, 0.01, 0.1, 1, 10, 100]\n",
    "    }\n",
    "]\n",
    "\n",
    "grid_searchRidge = GridSearchCV(ridge1_reg, param_grid_ridge_reg, n_jobs=-1, verbose=1)\n",
    "grid_searchRidge.fit(X_train, y_train)\n",
    "grid_searchRidge.best_params_"
   ]
  },
  {
   "cell_type": "markdown",
   "id": "cf8bedb5",
   "metadata": {},
   "source": [
    "лассо регрессии (Lasso)"
   ]
  },
  {
   "cell_type": "code",
   "execution_count": 49,
   "id": "33f092d6",
   "metadata": {},
   "outputs": [
    {
     "name": "stdout",
     "output_type": "stream",
     "text": [
      "Fitting 5 folds for each of 792 candidates, totalling 3960 fits\n"
     ]
    },
    {
     "data": {
      "text/plain": [
       "{'lasso_reg__alpha': 1e-05, 'poly__degree': 7}"
      ]
     },
     "execution_count": 49,
     "metadata": {},
     "output_type": "execute_result"
    }
   ],
   "source": [
    "import warnings\n",
    "warnings.filterwarnings(\"ignore\")\n",
    "\n",
    "param_grid_lasso_reg = [\n",
    "    {\n",
    "        \"poly__degree\": [i for i in range(1, 100)],\n",
    "        \"lasso_reg__alpha\": [0.00001, 0.0001, 0.001, 0.01, 0.1, 1, 10, 100]\n",
    "    }\n",
    "]\n",
    "\n",
    "grid_searchLasso = GridSearchCV(lasso1_reg, param_grid_lasso_reg, n_jobs=-1, verbose=1)\n",
    "grid_searchLasso.fit(X_train, y_train)\n",
    "grid_searchLasso.best_params_"
   ]
  },
  {
   "cell_type": "markdown",
   "id": "e616c912",
   "metadata": {},
   "source": [
    "регрессии эластичная сеть (ElasticNet)"
   ]
  },
  {
   "cell_type": "code",
   "execution_count": 50,
   "id": "83adabfd",
   "metadata": {},
   "outputs": [
    {
     "name": "stdout",
     "output_type": "stream",
     "text": [
      "Fitting 5 folds for each of 792 candidates, totalling 3960 fits\n"
     ]
    },
    {
     "data": {
      "text/plain": [
       "{'elnet_reg__alpha': 1e-05, 'poly__degree': 7}"
      ]
     },
     "execution_count": 50,
     "metadata": {},
     "output_type": "execute_result"
    }
   ],
   "source": [
    "param_grid_elnet_reg = [\n",
    "    {\n",
    "        \"poly__degree\": [i for i in range(1, 100)],\n",
    "        \"elnet_reg__alpha\": [0.00001, 0.0001, 0.001, 0.01, 0.1, 1, 10, 100]\n",
    "    }\n",
    "]\n",
    "\n",
    "grid_searchElasticNet = GridSearchCV(elnet1_reg, param_grid_elnet_reg, n_jobs=-1, verbose=1)\n",
    "grid_searchElasticNet.fit(X_train, y_train)\n",
    "grid_searchElasticNet.best_params_"
   ]
  },
  {
   "cell_type": "markdown",
   "id": "e0236755",
   "metadata": {},
   "source": [
    "регрессии на основе метода ближайших соседей (KNeighborsRegressor)"
   ]
  },
  {
   "cell_type": "code",
   "execution_count": 28,
   "id": "53bc5bd0",
   "metadata": {},
   "outputs": [
    {
     "name": "stdout",
     "output_type": "stream",
     "text": [
      "Fitting 5 folds for each of 60 candidates, totalling 300 fits\n"
     ]
    },
    {
     "data": {
      "text/plain": [
       "{'n_neighbors': 10, 'weights': 'uniform'}"
      ]
     },
     "execution_count": 28,
     "metadata": {},
     "output_type": "execute_result"
    }
   ],
   "source": [
    "param_grid = [\n",
    "    {\n",
    "        \"weights\": [\"uniform\"],\n",
    "        \"n_neighbors\": [i for i in range(1, 11)]\n",
    "    },\n",
    "    {\n",
    "        \"weights\": [\"distance\"],\n",
    "        \"n_neighbors\": [i for i in range(1, 11)],\n",
    "        \"p\": [i for i in range(1, 6)]\n",
    "    }\n",
    "]\n",
    "\n",
    "grid_searchKnn = GridSearchCV(knn_reg, param_grid, n_jobs = -1, verbose = 1)\n",
    "grid_searchKnn.fit(X_train, y_train)\n",
    "grid_searchKnn.best_params_"
   ]
  },
  {
   "cell_type": "markdown",
   "id": "c9f79910",
   "metadata": {},
   "source": [
    "регрессии на основе деревьев решений (DecisionTreeRegressor)"
   ]
  },
  {
   "cell_type": "code",
   "execution_count": 51,
   "id": "d76a5451",
   "metadata": {},
   "outputs": [
    {
     "name": "stdout",
     "output_type": "stream",
     "text": [
      "Fitting 5 folds for each of 99 candidates, totalling 495 fits\n"
     ]
    },
    {
     "data": {
      "text/plain": [
       "{'tree_reg__max_leaf_nodes': 3}"
      ]
     },
     "execution_count": 51,
     "metadata": {},
     "output_type": "execute_result"
    }
   ],
   "source": [
    "param_grid = [\n",
    "    {\n",
    "        \"tree_reg__max_leaf_nodes\": [i for i in range (1, 100)]\n",
    "    }\n",
    "]\n",
    "\n",
    "grid_searchTree = GridSearchCV(tree1_reg, param_grid, n_jobs = -1, verbose = 1)\n",
    "grid_searchTree.fit(X_train, y_train)\n",
    "grid_searchTree.best_params_"
   ]
  },
  {
   "cell_type": "markdown",
   "id": "1f15d50d",
   "metadata": {},
   "source": [
    "регрессии на основе метода опорных векторов (SVR)"
   ]
  },
  {
   "cell_type": "code",
   "execution_count": 52,
   "id": "b32c899e",
   "metadata": {},
   "outputs": [
    {
     "name": "stdout",
     "output_type": "stream",
     "text": [
      "Fitting 5 folds for each of 4 candidates, totalling 20 fits\n"
     ]
    },
    {
     "data": {
      "text/plain": [
       "{'svm_reg__degree': 4}"
      ]
     },
     "execution_count": 52,
     "metadata": {},
     "output_type": "execute_result"
    }
   ],
   "source": [
    "param_grid = [\n",
    "    {\n",
    "        \"svm_reg__degree\": [i for i in range(1, 5)]\n",
    "    }\n",
    "]\n",
    "\n",
    "grid_searchSvm = GridSearchCV(svm1_reg, param_grid, n_jobs = -1, verbose = 1)\n",
    "grid_searchSvm.fit(X_train, y_train)\n",
    "grid_searchSvm.best_params_"
   ]
  },
  {
   "cell_type": "markdown",
   "id": "decd6342",
   "metadata": {},
   "source": [
    "#### 7. Визуализируйте на плоскости точки тестовой выборки и графики различных моделей регрессий разными цветами. Подпишите оси и создайте легенду для графика."
   ]
  },
  {
   "cell_type": "code",
   "execution_count": 69,
   "id": "05b30be4",
   "metadata": {},
   "outputs": [
    {
     "data": {
      "image/png": "[encoded data removed]",
      "text/plain": [
       "<Figure size 864x576 with 1 Axes>"
      ]
     },
     "metadata": {
      "needs_background": "light"
     },
     "output_type": "display_data"
    }
   ],
   "source": [
    "plt.figure(figsize=(12, 8))\n",
    "X_plot = np.linspace(0, 1, 100).reshape(100, 1)\n",
    "plt.title('Точки тестовой выборки и графики различных моделей регрессий', fontsize = 15)\n",
    "plt.scatter(X_test, y_test)\n",
    "plt.plot(X_plot[:,0], lin_reg.predict(X_plot), label = 'lin_reg')\n",
    "plt.plot(X_plot[:,0], poly2_reg.predict(X_plot), label = 'poly2_reg')\n",
    "plt.plot(X_plot[:,0], sgd_reg.predict(X_plot), label = 'sgd_reg')\n",
    "plt.plot(X_plot[:,0], ridge1_reg.predict(X_plot), label = 'ridge1_reg')\n",
    "plt.plot(X_plot[:,0], lasso1_reg.predict(X_plot), label = 'lasso1_reg')\n",
    "plt.plot(X_plot[:,0], elnet1_reg.predict(X_plot), label = 'elnet1_reg')\n",
    "\n",
    "plt.plot(X_plot[:,0], knn_reg.predict(X_plot), label = 'knn_reg')\n",
    "\n",
    "plt.plot(X_plot[:,0], tree1_reg.predict(X_plot), label = 'tree1_reg')\n",
    "plt.plot(X_plot[:,0], svm1_reg.predict(X_plot), label = 'svm1_reg')\n",
    "\n",
    "plt.xlabel('X_test', fontsize = 12)\n",
    "plt.ylabel('y_test', fontsize = 12)\n",
    "\n",
    "plt.legend()\n",
    "plt.show()\n",
    "\n",
    "\n",
    "\n",
    "#plt.plot(X_plot[:,0], y_plot, label=model)"
   ]
  },
  {
   "cell_type": "markdown",
   "id": "39f5c564",
   "metadata": {},
   "source": [
    "#### 8. Определите лучший регрессор по показателю коэффициент детерминации."
   ]
  },
  {
   "cell_type": "markdown",
   "id": "9ae0cfab",
   "metadata": {},
   "source": [
    "линейной регрессии"
   ]
  },
  {
   "cell_type": "markdown",
   "id": "e2033ba5",
   "metadata": {},
   "source": [
    "#### 9. Для лучшего регрессора визуализируйте кривые обучения (в зависимости от количества точек в обучающей выборке)."
   ]
  },
  {
   "cell_type": "code",
   "execution_count": 58,
   "id": "a79f49e7",
   "metadata": {},
   "outputs": [],
   "source": [
    "from sklearn.metrics import mean_squared_error\n",
    "\n",
    "def plot_learning_curve(algo, X_train, X_test, y_train, y_test):\n",
    "    train_score = []\n",
    "    test_score = []\n",
    "    for i in range(1, len(X_train)+1):\n",
    "        algo.fit(X_train[:i], y_train[:i])\n",
    "    \n",
    "        y_train_predict = algo.predict(X_train[:i])\n",
    "        train_score.append(mean_squared_error(y_train[:i], y_train_predict))\n",
    "    \n",
    "        y_test_predict = algo.predict(X_test)\n",
    "        test_score.append(mean_squared_error(y_test, y_test_predict))\n",
    "        \n",
    "    plt.plot([i for i in range(1, len(X_train)+1)], \n",
    "                               np.sqrt(train_score), label=\"train\")\n",
    "    plt.plot([i for i in range(1, len(X_train)+1)], \n",
    "                               np.sqrt(test_score), label=\"test\")\n",
    "    plt.legend()\n",
    "    plt.axis([0, len(X_train)+1, 0, 0.5]) # np.sqrt(test_score).max()\n",
    "    plt.show()"
   ]
  },
  {
   "cell_type": "code",
   "execution_count": 59,
   "id": "f5e99446",
   "metadata": {},
   "outputs": [
    {
     "data": {
      "image/png": "[encoded data removed]",
      "text/plain": [
       "<Figure size 432x288 with 1 Axes>"
      ]
     },
     "metadata": {
      "needs_background": "light"
     },
     "output_type": "display_data"
    }
   ],
   "source": [
    "plt.title('Кривые обучения')\n",
    "plot_learning_curve(LinearRegression(), X_train, X_test, y_train, y_test)"
   ]
  }
 ],
 "metadata": {
  "kernelspec": {
   "display_name": "Python 3",
   "language": "python",
   "name": "python3"
  },
  "language_info": {
   "codemirror_mode": {
    "name": "ipython",
    "version": 3
   },
   "file_extension": ".py",
   "mimetype": "text/x-python",
   "name": "python",
   "nbconvert_exporter": "python",
   "pygments_lexer": "ipython3",
   "version": "3.8.8"
  }
 },
 "nbformat": 4,
 "nbformat_minor": 5
}
